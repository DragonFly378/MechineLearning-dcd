{
    "cells": [
        {
            "cell_type": "code",
            "execution_count": 6,
            "id": "vulnerable-strike",
            "metadata": {},
            "outputs": [
                {
                    "name": "stdout",
                    "output_type": "stream",
                    "text": ["Hello World! \n", "\n"],
                }
            ],
            "source": ["#SOAL 1\n", "print('Hello World! \\n')  "],
        },
        {
            "cell_type": "code",
            "execution_count": 2,
            "id": "applicable-tours",
            "metadata": {},
            "outputs": [
                {
                    "output_type": "stream",
                    "name": "stdout",
                    "text": [
                        "jika ditambah hasilnya : 42\njika dikurang hasilnya : 17\njika dikali hasilnya : 84\njika dibagi hasilnya : 5.25\n"
                    ],
                }
            ],
            "source": [
                "#SOAL 2\n",
                "a = 21\n",
                "b = 4\n",
                "\n",
                "jumlah = a + a\n",
                "kurang = a - b\n",
                "kali = a * b\n",
                "bagi = a / b\n",
                "print( 'jika ditambah hasilnya : ' + str(jumlah) )\n",
                "print( 'jika dikurang hasilnya : ' + str(kurang) )\n",
                "print( 'jika dikali hasilnya : ' + str(kali) )\n",
                "print( 'jika dibagi hasilnya : ' + str(bagi) )",
            ],
        },
        {
            "cell_type": "code",
            "execution_count": 4,
            "id": "statutory-indianapolis",
            "metadata": {},
            "outputs": [
                {
                    "output_type": "stream",
                    "name": "stdout",
                    "text": ["3.8333333333333335\n3\n"],
                }
            ],
            "source": [
                "#SOAL 3\n",
                "a = 23\n",
                "b = 6\n",
                "d = a/b\n",
                "e = int(d)\n",
                "print(d)\n",
                "print(e)",
            ],
        },
        {
            "cell_type": "code",
            "execution_count": 5,
            "id": "ambient-player",
            "metadata": {},
            "outputs": [
                {
                    "output_type": "stream",
                    "name": "stdout",
                    "text": [
                        "Hello sanbercode, saya Hafiz Hisbullah! saya siap belajar python data science.\n"
                    ],
                }
            ],
            "source": [
                "#soal 4\n",
                "firstname = 'Hafiz'\n",
                "lastname = 'Hisbullah' \n",
                "print('Hello sanbercode, saya ' + firstname + ' ' + lastname + '! saya siap belajar python data science.')\n",
            ],
        },
        {
            "cell_type": "code",
            "execution_count": 6,
            "id": "fundamental-psychology",
            "metadata": {},
            "outputs": [
                {
                    "output_type": "stream",
                    "name": "stdout",
                    "text": ["the number: 9.99999\n"],
                }
            ],
            "source": [
                "#soal 5\n",
                "p = 9.99999\n",
                "q = 'the number: '\n",
                "print(q + str(float(p)))",
            ],
        },
    ],
    "metadata": {
        "kernelspec": {"name": "python3", "display_name": "Python 3.8.5 64-bit"},
        "language_info": {
            "codemirror_mode": {"name": "ipython", "version": 3},
            "file_extension": ".py",
            "mimetype": "text/x-python",
            "name": "python",
            "nbconvert_exporter": "python",
            "pygments_lexer": "ipython3",
            "version": "3.8.5",
        },
        "interpreter": {
            "hash": "916dbcbb3f70747c44a77c7bcd40155683ae19c65e1c03b4aa3499c5328201f1"
        },
    },
    "nbformat": 4,
    "nbformat_minor": 5,
}
