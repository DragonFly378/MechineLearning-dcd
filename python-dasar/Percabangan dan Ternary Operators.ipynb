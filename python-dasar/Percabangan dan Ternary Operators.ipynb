{
 "cells": [
  {
   "cell_type": "code",
   "execution_count": 6,
   "id": "ad7d4fc5",
   "metadata": {},
   "outputs": [
    {
     "name": "stdout",
     "output_type": "stream",
     "text": [
      "Cetak ini jika benar\n",
      "10\n"
     ]
    }
   ],
   "source": [
    "# if\n",
    "def hitung():\n",
    "    print (\"Cetak ini jika benar\")\n",
    "    print (kelerengku)\n",
    "    \n",
    "kelerengku = 10\n",
    "if kelerengku: hitung()"
   ]
  },
  {
   "cell_type": "code",
   "execution_count": 8,
   "id": "37189301",
   "metadata": {},
   "outputs": [
    {
     "name": "stdout",
     "output_type": "stream",
     "text": [
      "Masukkan tinggi badan Anda : 160\n",
      "Silakan, Anda boleh masuk\n"
     ]
    }
   ],
   "source": [
    "# Else\n",
    "tinggi_badan = int(input(\"Masukkan tinggi badan Anda : \"))\n",
    "if tinggi_badan>=160:\n",
    "   print (\"Silakan, Anda boleh masuk\")\n",
    "else:\n",
    "   print (\"Maaf, Anda belum boleh masuk\")"
   ]
  },
  {
   "cell_type": "code",
   "execution_count": 1,
   "id": "81111d2d",
   "metadata": {
    "slideshow": {
     "slide_type": "slide"
    }
   },
   "outputs": [
    {
     "name": "stdout",
     "output_type": "stream",
     "text": [
      "Masukkan nilai tugas Anda : 90\n",
      "Selamat! Anda mendapat nilai A\n",
      "Pertahankan!\n",
      "Bilangan -3 adalah negatif\n"
     ]
    }
   ],
   "source": [
    "# elif\n",
    "nilai = int(input(\"Masukkan nilai tugas Anda : \"))\n",
    "if nilai>80:\n",
    "   print(\"Selamat! Anda mendapat nilai A\")\n",
    "   print(\"Pertahankan!\")\n",
    "elif nilai>70:\n",
    "   print(\"Hore! Anda mendapat nilai B\")\n",
    "   print(\"Tingkatkan!\")\n",
    "elif nilai>60:\n",
    "   print(\"Hmm.. Anda mendapat nilai C\")\n",
    "   print(\"Ayo semangat!\")\n",
    "else:\n",
    "   print(\"Waduh, Anda mendapat nilai D\")\n",
    "   print(\"Yuk belajar lebih giat lagi!\")\n",
    "    \n",
    "# contoh lain\n",
    "bilangan = -3\n",
    "if bilangan > 0:\n",
    "    print('Bilangan {} adalah positif'.format(bilangan))\n",
    "elif bilangan < 0:\n",
    "    print('Bilangan {} adalah negatif'.format(bilangan))\n",
    "else:\n",
    "    print('Bilangan {} adalah nol'.format(bilangan))"
   ]
  },
  {
   "cell_type": "code",
   "execution_count": 4,
   "id": "4b2d7c7b",
   "metadata": {},
   "outputs": [
    {
     "name": "stdout",
     "output_type": "stream",
     "text": [
      "selamat\n",
      "perbaiki\n",
      "0.125\n",
      "2\n"
     ]
    }
   ],
   "source": [
    "# Ternary\n",
    "lulus = True\n",
    "kata = \"selamat\" if lulus else \"perbaiki\"\n",
    "print(kata)\n",
    "\n",
    "# Ternary use tuple\n",
    "## (condition_if_false, condition_if_true)[condition]\n",
    "nice = False\n",
    "kata= (\"perbaiki\", \"selamat\")[nice]\n",
    "print(kata)\n",
    "\n",
    "\n",
    "### contoh\n",
    "kondisi = False\n",
    "print(2 if kondisi else 1/8)\n",
    "\n",
    "print((2, 3)[kondisi])\n"
   ]
  },
  {
   "cell_type": "code",
   "execution_count": 5,
   "id": "768789ed",
   "metadata": {},
   "outputs": [
    {
     "name": "stdout",
     "output_type": "stream",
     "text": [
      "Tidak ada data\n"
     ]
    }
   ],
   "source": [
    "# shorthand ternary \n",
    "hasil = None\n",
    "pesan = hasil or \"Tidak ada data\"\n",
    "print(pesan)"
   ]
  },
  {
   "cell_type": "code",
   "execution_count": null,
   "id": "7ed21f45",
   "metadata": {},
   "outputs": [],
   "source": []
  }
 ],
 "metadata": {
  "celltoolbar": "Slideshow",
  "kernelspec": {
   "display_name": "Python 3",
   "language": "python",
   "name": "python3"
  },
  "language_info": {
   "codemirror_mode": {
    "name": "ipython",
    "version": 3
   },
   "file_extension": ".py",
   "mimetype": "text/x-python",
   "name": "python",
   "nbconvert_exporter": "python",
   "pygments_lexer": "ipython3",
   "version": "3.8.5"
  }
 },
 "nbformat": 4,
 "nbformat_minor": 5
}
