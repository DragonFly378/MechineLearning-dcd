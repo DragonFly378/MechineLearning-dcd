{
 "cells": [
  {
   "cell_type": "code",
   "execution_count": 3,
   "id": "615e0cd4",
   "metadata": {},
   "outputs": [
    {
     "name": "stdout",
     "output_type": "stream",
     "text": [
      "5\n",
      "15\n"
     ]
    }
   ],
   "source": [
    "print(2 + 3)\n",
    "print(3 * 5)"
   ]
  },
  {
   "cell_type": "code",
   "execution_count": null,
   "id": "f0d565bd",
   "metadata": {},
   "outputs": [],
   "source": [
    "#     + (tambah)\n",
    "#         Menambahkan dua objek.\n",
    "#         3 + 5 menghasilkan 8\n",
    "#         'a' + 'b' menghasilkan 'ab'.\n",
    "\n",
    "#     - (kurang)\n",
    "#         Mengurangkan operand kedua dari operand pertama. Jika hanya satu operand, diasumsikan nilai operand pertama adalah 0.\n",
    "#         -5.2 adalah expression yang sama dengan 0 - 5.2 menghasilkan -5.2.\n",
    "#         50 - 24 menghasilkan 26.\n",
    "#         Tidak berlaku untuk string, akan menghasilkan error unsupported operand.\n",
    "\n",
    "#     * (perkalian)\n",
    "#         Mengembalikan hasil perkalian angka atau mengembalikan string yang diulang sejumlah tertentu.\n",
    "#         2 * 3 menghasilkan 6.\n",
    "#         'la' * 3 menghasilkan 'lalala'.\n",
    "\n",
    "#     ** (pangkat)\n",
    "#         Mengembalikan operand pertama pangkat operand kedua.\n",
    "#         3 ** 4 menghasilkan 81 (sama dengan 3 * 3 * 3 * 3).\n",
    "#         | Tips: untuk akar dua, gunakan pangkat 0.5.\n",
    "\n",
    "#     / (pembagian)\n",
    "#         Mengembalikan hasil pembagian operand pertama dengan operand kedua (float).\n",
    "#         13 / 3 menghasilkan 4.333333333333333.\n",
    "\n",
    "#     // (pembagian habis dibagi / div)\n",
    "#         Mengembalikan hasil pembagian operand pertama dengan operand kedua (bilangan bulat), kecuali jika salah satu operand adalah float, akan menghasilkan float.\n",
    "#         13 // 3 menghasilkan 4.\n",
    "#         -13 // 3 menghasilkan -5.\n",
    "#         9//1.81 menghasilkan 4.0.\n",
    "\n",
    "#     % (modulo)\n",
    "#         Mengembalikan sisa bagi.\n",
    "#         13 % 3 menghasilkan 1.\n",
    "#         -25.5 % 2.25 menghasilkan 1.5.\n"
   ]
  },
  {
   "cell_type": "code",
   "execution_count": 4,
   "id": "892d87f6",
   "metadata": {},
   "outputs": [],
   "source": [
    "# Operasi Bit\n",
    "\n",
    "#     << (left shift)\n",
    "#         Menggeser representasi bit/binary dari operand pertama sebanyak operand kedua ke kiri.\n",
    "#         2 << 2 menghasilkan 8.\n",
    "#             2 direpresentasikan sebagai 10 dalam binary.\n",
    "#             Geser ke kiri sebanyak 2x, menjadi 1000 (tambahkan 0 di belakangnya).\n",
    "#         1000 dalam binary bernilai 8 dalam desimal.\n",
    "\n",
    "#     >> (right shift)\n",
    "#         Menggeser representasi bit/binary dari operand pertama sebanyak operand kedua ke kanan.\n",
    "#         11 >> 1 menghasilkan 5.\n",
    "#             11 direpresentasikan sebagai 1011 dalam binary.\n",
    "#             Geser ke kanan sebanyak 1x, menjadi 101.\n",
    "#         101 dalam binary bernilai 5 dalam desimal.\n",
    "\n",
    "#     & (bit-wise AND)\n",
    "#         Menjalankan operasi binary AND pada representasi operand pertama dan kedua.\n",
    "#         5 & 3 menghasilkan 1.\n",
    "#             Representasi binary 5 adalah 101 dan representasi binary 3 adalah 011.\n",
    "#             101 and 011 bernilai 001.\n",
    "#         001 dalam desimal adalah 1.\n",
    "\n",
    "#     | (bit-wise OR)\n",
    "#         Menjalankan operasi binary OR pada representasi operand pertama dan kedua.\n",
    "#         5 | 3 menghasilkan 7.\n",
    "#             Representasi binary 5 adalah 101 dan representasi binary 3 adalah 011.\n",
    "#             101 or 011 bernilai 111.\n",
    "#         111 dalam desimal adalah 7.\n",
    "\n",
    "#     ^ (bit-wise XOR)\n",
    "#         Menjalankan operasi binary XOR pada representasi operand pertama dan kedua.\n",
    "#         5 ^ 3 menghasilkan 6.\n",
    "#             Representasi binary 5 adalah 101 dan representasi binary 3 adalah 011.\n",
    "#             101 xor 011 bernilai 110.\n",
    "#         110 dalam desimal adalah 6.\n",
    "\n",
    "#     ~ (bit-wise invert)\n",
    "#         Menjalankan operasi binary invert pada representasi operand.\n",
    "#         Nilai invert dari x adalah -(x+1), menggunakan metode Two’s Complement\n",
    "#         ~5 menghasilkan -6.\n",
    "#         Lebih lanjut mengenai Two’s Complement dapat dibaca pada "
   ]
  },
  {
   "cell_type": "code",
   "execution_count": 1,
   "id": "8fbbed9d",
   "metadata": {},
   "outputs": [],
   "source": [
    "# Perbandingan\n",
    "    \n",
    "#     < atau operator.lt (less than)\n",
    "#         Menjalankan perbandingan apakah operand pertama lebih kecil dari operand kedua.\n",
    "#         5 < 3 menghasilkan False and 3 < 5 menghasilkan True.\n",
    "#         Perbandingan dapat berisi lebih dari dua operand, misalnya 3 < 5 < 7 menghasilkan True.\n",
    "\n",
    "#     > atau operator.gt (greater than)\n",
    "#         Menjalankan perbandingan apakah operand pertama lebih besar dari operand kedua.\n",
    "#         5 > 3 menghasilkan True.\n",
    "\n",
    "#     <= atau operator.le (less than or equal to)\n",
    "#         Menjalankan perbandingan apakah operand pertama lebih kecil atau sama dengan operand kedua.\n",
    "#         x = 3; y = 6;\n",
    "#             x <= y menghasilkan True.\n",
    "\n",
    "#     >= atau operator.ge (greater than or equal to)\n",
    "#         Menjalankan perbandingan apakah operand pertama lebih besar atau sama dengan operand kedua.\n",
    "#         x = 4; y = 3;\n",
    "#             x >= y menghasilkan True.\n",
    "\n",
    "#     == atau operator.eq (equal to)\n",
    "#         Menjalankan perbandingan apakah operand pertama sama dengan operand kedua.\n",
    "#         x = 2; y = 2;\n",
    "#             x == y menghasilkan True.\n",
    "#         x = 'str'; y = 'stR';\n",
    "#             x == y menghasilkan False.\n",
    "#         x = 'str'; y = 'str';\n",
    "#             x == y menghasilkan True.\n",
    "\n",
    "#     != atau operator.ne (not equal to)\n",
    "#         Menjalankan perbandingan apakah operand pertama tidak sama dengan operand kedua.\n",
    "#         x = 2; y = 3;\n",
    "#             x != y returns True.\n",
    "\n",
    "\n"
   ]
  },
  {
   "cell_type": "code",
   "execution_count": null,
   "id": "49c6adf8",
   "metadata": {},
   "outputs": [],
   "source": [
    "## https://docs.python.org/id/3.8/reference/expressions.html#operator-precedence\n"
   ]
  }
 ],
 "metadata": {
  "kernelspec": {
   "display_name": "Python 3",
   "language": "python",
   "name": "python3"
  },
  "language_info": {
   "codemirror_mode": {
    "name": "ipython",
    "version": 3
   },
   "file_extension": ".py",
   "mimetype": "text/x-python",
   "name": "python",
   "nbconvert_exporter": "python",
   "pygments_lexer": "ipython3",
   "version": "3.8.5"
  }
 },
 "nbformat": 4,
 "nbformat_minor": 5
}
