{
 "cells": [
  {
   "cell_type": "code",
   "execution_count": 43,
   "id": "1cca9cc1",
   "metadata": {},
   "outputs": [
    {
     "name": "stdout",
     "output_type": "stream",
     "text": [
      "Huruf: D\n",
      "Huruf: i\n",
      "Huruf: c\n",
      "Huruf: o\n",
      "Huruf: d\n",
      "Huruf: i\n",
      "Huruf: n\n",
      "Huruf: g\n",
      "Flower: mawar\n",
      "Flower: melati\n",
      "Flower: anggrek\n"
     ]
    }
   ],
   "source": [
    "for huruf in 'Dicoding':  # Contoh pertama\n",
    "    print('Huruf: {}'.format(huruf))\n",
    "\n",
    "flowers = ['mawar', 'melati', 'anggrek']\n",
    "for flower in flowers:  # Contoh kedua\n",
    "    print('Flower: {}'.format(flower))"
   ]
  },
  {
   "cell_type": "code",
   "execution_count": 2,
   "id": "6e7bc50f",
   "metadata": {},
   "outputs": [
    {
     "name": "stdout",
     "output_type": "stream",
     "text": [
      "Flowers: mawar\n",
      "Flowers: melati\n",
      "Flowers: anggrek\n"
     ]
    }
   ],
   "source": [
    "flowers = ['mawar', 'melati', 'anggrek']\n",
    "for i in range(len(flowers)):\n",
    "    print('Flowers:' ,flowers[i])"
   ]
  },
  {
   "cell_type": "code",
   "execution_count": 38,
   "id": "419007e6",
   "metadata": {},
   "outputs": [
    {
     "name": "stdout",
     "output_type": "stream",
     "text": [
      "Hitungannya adalah: 0\n",
      "Hitungannya adalah: 1\n",
      "Hitungannya adalah: 2\n",
      "Hitungannya adalah: 3\n",
      "Hitungannya adalah: 4\n",
      "Hitungannya adalah: 5\n",
      "Hitungannya adalah: 6\n"
     ]
    }
   ],
   "source": [
    "#While\n",
    "count = 0\n",
    "while (count < 7):\n",
    "    print('Hitungannya adalah: {}'.format(count))\n",
    "    count = count + 1"
   ]
  },
  {
   "cell_type": "code",
   "execution_count": 10,
   "id": "396cc753",
   "metadata": {},
   "outputs": [
    {
     "name": "stdout",
     "output_type": "stream",
     "text": [
      "******\n",
      "*****\n",
      "****\n",
      "***\n",
      "**\n",
      "*\n"
     ]
    }
   ],
   "source": [
    "# for bertingkat\n",
    "for i in range(0, 6):\n",
    "    for j in range(0, 6 - i):\n",
    "        print('*', end='')\n",
    "    print()\n",
    "\n",
    "# for i in range(0, 6):\n",
    "#     for j in range(i+1):\n",
    "#         print('*', end='')\n",
    "#     print()\n",
    "    \n",
    "# for i in range(0, 6):\n",
    "#     for j in range(0, i+1):\n",
    "#         print('*', end='')\n",
    "#     print()"
   ]
  },
  {
   "cell_type": "code",
   "execution_count": 65,
   "id": "3c5a71c1",
   "metadata": {},
   "outputs": [
    {
     "name": "stdout",
     "output_type": "stream",
     "text": [
      "         * \r\n",
      "        * * \r\n",
      "       * * * \r\n",
      "      * * * * \r\n",
      "     * * * * * \r\n"
     ]
    }
   ],
   "source": [
    "def pypart2(n):\n",
    "     \n",
    "    # number of spaces\n",
    "    k = 2*n - 1\n",
    " \n",
    "    # outer loop to handle number of rows\n",
    "    for i in range(0, n):\n",
    "     \n",
    "        # inner loop to handle number spaces\n",
    "        # values changing acc. to requirement\n",
    "        for j in range(0, k):\n",
    "            print(end=\" \")\n",
    "     \n",
    "        # decrementing k after each loop\n",
    "        k = k - 1\n",
    "     \n",
    "        # inner loop to handle number of columns\n",
    "        # values changing acc. to outer loop\n",
    "        for j in range(0, i+1):\n",
    "         \n",
    "            # printing stars\n",
    "            print(\"* \", end=\"\")\n",
    "     \n",
    "        # ending line after each row\n",
    "        print(\"\\r\")\n",
    " \n",
    "# Driver Code\n",
    "n = 5\n",
    "pypart2(n)"
   ]
  },
  {
   "cell_type": "code",
   "execution_count": null,
   "id": "0f3cfb7f",
   "metadata": {},
   "outputs": [],
   "source": [
    "## KONTROL PERULANGAN"
   ]
  },
  {
   "cell_type": "code",
   "execution_count": null,
   "id": "4dc48d8b",
   "metadata": {},
   "outputs": [],
   "source": []
  }
 ],
 "metadata": {
  "kernelspec": {
   "display_name": "Python 3.8.5 64-bit",
   "language": "python",
   "name": "python385jvsc74a57bd0916dbcbb3f70747c44a77c7bcd40155683ae19c65e1c03b4aa3499c5328201f1"
  },
  "language_info": {
   "codemirror_mode": {
    "name": "ipython",
    "version": 3
   },
   "file_extension": ".py",
   "mimetype": "text/x-python",
   "name": "python",
   "nbconvert_exporter": "python",
   "pygments_lexer": "ipython3",
   "version": "3.8.5"
  }
 },
 "nbformat": 4,
 "nbformat_minor": 5
}
