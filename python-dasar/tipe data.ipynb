{
 "cells": [
  {
   "cell_type": "code",
   "execution_count": 12,
   "metadata": {},
   "outputs": [
    {
     "name": "stdout",
     "output_type": "stream",
     "text": [
      "/home/dragonfly378/Downloads\n"
     ]
    }
   ],
   "source": [
    "import os\n",
    "print(os.getcwd())"
   ]
  },
  {
   "cell_type": "code",
   "execution_count": 13,
   "metadata": {},
   "outputs": [
    {
     "name": "stdout",
     "output_type": "stream",
     "text": [
      "9\n",
      "Bilangan Fibonaccinya adalah: \n",
      "0\n",
      "1\n",
      "1\n",
      "2\n",
      "3\n",
      "5\n",
      "8\n",
      "13\n",
      "21\n"
     ]
    }
   ],
   "source": [
    "#fibonacci\n",
    "\n",
    "nterms = int(input(\"How many terms? \"))\n",
    "\n",
    "#first two terms\n",
    "n1, n2 = 0, 1\n",
    "count = 0\n",
    "\n",
    "#check if the number of terms is valid\n",
    "if nterms <= 0:\n",
    "    print(\"masukin bilangan positip bro!\")\n",
    "elif nterms == 1:\n",
    "    print(\"Fibonacci sequence upto\", nterms,\":\")\n",
    "    print(n1)\n",
    "else:\n",
    "    print(\"Bilangan Fibonaccinya adalah: \")\n",
    "    while count < nterms:\n",
    "        print(n1)\n",
    "        nth = n1 + n2\n",
    "        #ulangi\n",
    "        n1 = n2\n",
    "        n2 = nth\n",
    "        count += 1"
   ]
  },
  {
   "cell_type": "code",
   "execution_count": 2,
   "metadata": {},
   "outputs": [],
   "source": [
    "def long_function_name(\n",
    "  var_one, var_two, \n",
    "  var_three,var_four):\n",
    "    print(var_one)"
   ]
  },
  {
   "cell_type": "code",
   "execution_count": 6,
   "metadata": {},
   "outputs": [
    {
     "name": "stdout",
     "output_type": "stream",
     "text": [
      "['a', 'b', 'c', 'd', 'e', 'f']\n"
     ]
    }
   ],
   "source": [
    "result = [\n",
    "    'a', 'b', 'c',\n",
    "    'd', 'e', 'f',\n",
    "]\n",
    "\n",
    "print(result)"
   ]
  },
  {
   "cell_type": "code",
   "execution_count": 1,
   "metadata": {},
   "outputs": [
    {
     "name": "stdout",
     "output_type": "stream",
     "text": [
      "10 bertipe <class 'int'>\n",
      "10 bertipe <class 'float'>\n",
      "(1+3j)  Bertipe bilangan kompleks?  True\n"
     ]
    }
   ],
   "source": [
    "    a = 10\n",
    "    print(a, \"bertipe\", type(a))\n",
    "    b = 1.7\n",
    "    print(a, \"bertipe\", type(b))\n",
    "    c = 1+3j\n",
    "    print(c, \" Bertipe bilangan kompleks? \", isinstance(1+3j,complex))"
   ]
  },
  {
   "cell_type": "code",
   "execution_count": 18,
   "metadata": {},
   "outputs": [
    {
     "name": "stdout",
     "output_type": "stream",
     "text": [
      "30\n",
      "40\n",
      "[20, 25]\n",
      "[5, 10, 15, 20, 25]\n",
      "[30, 35, 40]\n",
      "[10, 20, 30]\n"
     ]
    }
   ],
   "source": [
    "    #Tipe data List\n",
    "    \n",
    "    x = [5,10,15,20,25,30,35,40]\n",
    "    print(x[5])\n",
    "    print(x[-1])\n",
    "    print(x[3:5])\n",
    "    print(x[:5])\n",
    "    print(x[-3:])\n",
    "    print(x[1:7:2])"
   ]
  },
  {
   "cell_type": "code",
   "execution_count": 28,
   "metadata": {},
   "outputs": [
    {
     "name": "stdout",
     "output_type": "stream",
     "text": [
      "[1, 2, 4, 5]\n",
      "['kucing', 'rusa', 'gajah']\n",
      "['kucing', 'rusa']\n"
     ]
    }
   ],
   "source": [
    "#attribut dari list\n",
    "\n",
    "x = [1,2,3]\n",
    "x[2]=4\n",
    "x.append(5)\n",
    "print(x)\n",
    "\n",
    "binatang = ['kucing', 'rusa', 'badak', 'gajah']\n",
    "del binatang[2]\n",
    "print(binatang)\n",
    "\n",
    "del binatang [2]\n",
    "print(binatang)"
   ]
  },
  {
   "cell_type": "code",
   "execution_count": 31,
   "metadata": {},
   "outputs": [
    {
     "name": "stdout",
     "output_type": "stream",
     "text": [
      "o\n",
      "World\n",
      "Halo Dunia!\n"
     ]
    }
   ],
   "source": [
    "#list versi string\n",
    "s = \"Hello World!\"\n",
    "print(s[4]) \t\t#ambil karakter kelima dari string s\n",
    "print(s[6:11]) \t\t#ambil karakter ketujuh hingga sebelas dari string s\n",
    "s = \"Halo Dunia!\"\t#ubah isi string s menjadi \"Halo Dunia!\", seharusnya berhasil karena mutable\n",
    "print (s)"
   ]
  },
  {
   "cell_type": "code",
   "execution_count": 48,
   "metadata": {},
   "outputs": [
    {
     "name": "stdout",
     "output_type": "stream",
     "text": [
      "program\n",
      "(5, 'program', (1+3j))\n"
     ]
    },
    {
     "ename": "TypeError",
     "evalue": "'tuple' object does not support item assignment",
     "output_type": "error",
     "traceback": [
      "\u001b[0;31m---------------------------------------------------------------------------\u001b[0m",
      "\u001b[0;31mTypeError\u001b[0m                                 Traceback (most recent call last)",
      "\u001b[0;32m<ipython-input-48-27e263ea0680>\u001b[0m in \u001b[0;36m<module>\u001b[0;34m\u001b[0m\n\u001b[1;32m      2\u001b[0m \u001b[0mprint\u001b[0m\u001b[0;34m(\u001b[0m\u001b[0mt\u001b[0m\u001b[0;34m[\u001b[0m\u001b[0;36m1\u001b[0m\u001b[0;34m]\u001b[0m\u001b[0;34m)\u001b[0m\u001b[0;34m\u001b[0m\u001b[0;34m\u001b[0m\u001b[0m\n\u001b[1;32m      3\u001b[0m \u001b[0mprint\u001b[0m\u001b[0;34m(\u001b[0m\u001b[0mt\u001b[0m\u001b[0;34m[\u001b[0m\u001b[0;36m0\u001b[0m\u001b[0;34m:\u001b[0m\u001b[0;36m3\u001b[0m\u001b[0;34m]\u001b[0m\u001b[0;34m)\u001b[0m\u001b[0;34m\u001b[0m\u001b[0;34m\u001b[0m\u001b[0m\n\u001b[0;32m----> 4\u001b[0;31m \u001b[0mt\u001b[0m\u001b[0;34m[\u001b[0m\u001b[0;36m0\u001b[0m\u001b[0;34m]\u001b[0m\u001b[0;34m=\u001b[0m\u001b[0;36m10\u001b[0m\u001b[0;34m\u001b[0m\u001b[0;34m\u001b[0m\u001b[0m\n\u001b[0m\u001b[1;32m      5\u001b[0m \u001b[0mprint\u001b[0m\u001b[0;34m(\u001b[0m\u001b[0mt\u001b[0m\u001b[0;34m)\u001b[0m\u001b[0;34m\u001b[0m\u001b[0;34m\u001b[0m\u001b[0m\n",
      "\u001b[0;31mTypeError\u001b[0m: 'tuple' object does not support item assignment"
     ]
    }
   ],
   "source": [
    "#tipe data tuple\n",
    "#Tuple adalah jenis dari list yang tidak dapat diubah elemennya.\n",
    "\n",
    "t = (5,'program', 1+3j)\n",
    "print(t[1])\n",
    "print(t[0:3])\n",
    "t[0]=10\n",
    "print(t)"
   ]
  },
  {
   "cell_type": "code",
   "execution_count": 52,
   "metadata": {},
   "outputs": [
    {
     "name": "stdout",
     "output_type": "stream",
     "text": [
      "<class 'set'>\n",
      "{1, 2, 3}\n"
     ]
    },
    {
     "ename": "TypeError",
     "evalue": "'set' object is not subscriptable",
     "output_type": "error",
     "traceback": [
      "\u001b[0;31m---------------------------------------------------------------------------\u001b[0m",
      "\u001b[0;31mTypeError\u001b[0m                                 Traceback (most recent call last)",
      "\u001b[0;32m<ipython-input-52-5b05a828a20c>\u001b[0m in \u001b[0;36m<module>\u001b[0;34m\u001b[0m\n\u001b[1;32m      9\u001b[0m \u001b[0mprint\u001b[0m\u001b[0;34m(\u001b[0m\u001b[0mtype\u001b[0m\u001b[0;34m(\u001b[0m\u001b[0ma\u001b[0m\u001b[0;34m)\u001b[0m\u001b[0;34m)\u001b[0m\u001b[0;34m\u001b[0m\u001b[0;34m\u001b[0m\u001b[0m\n\u001b[1;32m     10\u001b[0m \u001b[0mprint\u001b[0m\u001b[0;34m(\u001b[0m\u001b[0ma\u001b[0m\u001b[0;34m)\u001b[0m\u001b[0;34m\u001b[0m\u001b[0;34m\u001b[0m\u001b[0m\n\u001b[0;32m---> 11\u001b[0;31m \u001b[0mprint\u001b[0m\u001b[0;34m(\u001b[0m\u001b[0ma\u001b[0m\u001b[0;34m[\u001b[0m\u001b[0;36m1\u001b[0m\u001b[0;34m]\u001b[0m\u001b[0;34m)\u001b[0m\u001b[0;34m\u001b[0m\u001b[0;34m\u001b[0m\u001b[0m\n\u001b[0m\u001b[1;32m     12\u001b[0m \u001b[0;34m\u001b[0m\u001b[0m\n",
      "\u001b[0;31mTypeError\u001b[0m: 'set' object is not subscriptable"
     ]
    }
   ],
   "source": [
    "'''tipe data set\n",
    "adalah kumpulan item bersifat unik dan tanpa urutan (unordered collection). \n",
    "Didefinisikan dengan kurawal dan elemennya dipisahkan dengan koma. \n",
    "Pada Set kita dapat melakukan union dan intersection, \n",
    "sekaligus otomatis melakukan penghapusan data duplikat.\n",
    "'''    \n",
    "    \n",
    "a = {1,2,2,3,3,3}\n",
    "print(type(a))\n",
    "print(a)\n",
    "print(a[1])\n",
    "    "
   ]
  },
  {
   "cell_type": "code",
   "execution_count": 58,
   "metadata": {},
   "outputs": [
    {
     "name": "stdout",
     "output_type": "stream",
     "text": [
      "<class 'dict'>\n",
      "{1: 'value', 'capung': 2}\n",
      "d[1] =  value\n",
      "d['capung'] =  2\n"
     ]
    }
   ],
   "source": [
    "#tipe data Dict\n",
    "d = {1:'value','capung':2}\n",
    "\n",
    "\n",
    "print(type(d))\n",
    "print(d)\n",
    "print(\"d[1] = \", d[1]);\n",
    "print(\"d['capung'] = \", d['capung']);"
   ]
  },
  {
   "cell_type": "code",
   "execution_count": 62,
   "metadata": {},
   "outputs": [
    {
     "name": "stdout",
     "output_type": "stream",
     "text": [
      "[[1, 2], [3, 4]]\n",
      "{1: 2, 3: 4}\n"
     ]
    }
   ],
   "source": [
    "#konversi tipe data\n",
    "\n",
    "x = [[1,2] ,[3,4]]\n",
    "print(x)\n",
    "\n",
    "print(dict(x))"
   ]
  },
  {
   "cell_type": "code",
   "execution_count": 1,
   "metadata": {},
   "outputs": [
    {
     "name": "stdout",
     "output_type": "stream",
     "text": [
      "3\n",
      "6\n"
     ]
    }
   ],
   "source": []
  },
  {
   "cell_type": "code",
   "execution_count": null,
   "metadata": {},
   "outputs": [],
   "source": []
  }
 ],
 "metadata": {
  "kernelspec": {
   "display_name": "Python 3",
   "language": "python",
   "name": "python3"
  },
  "language_info": {
   "codemirror_mode": {
    "name": "ipython",
    "version": 3
   },
   "file_extension": ".py",
   "mimetype": "text/x-python",
   "name": "python",
   "nbconvert_exporter": "python",
   "pygments_lexer": "ipython3",
   "version": "3.8.5"
  }
 },
 "nbformat": 4,
 "nbformat_minor": 2
}
