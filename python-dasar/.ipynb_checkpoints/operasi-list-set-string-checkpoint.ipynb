{
 "cells": [
  {
   "cell_type": "code",
   "execution_count": 2,
   "id": "df4b892e",
   "metadata": {},
   "outputs": [
    {
     "name": "stdout",
     "output_type": "stream",
     "text": [
      "[1, 3, 3, 5, 5, 5, 7, 7, 9]\n",
      "9\n",
      "{1, 3, 5, 7, 9}\n",
      "5\n",
      "Belajar Python\n",
      "14\n"
     ]
    }
   ],
   "source": [
    "#len()\n",
    "contoh_list = [1, 3, 3, 5, 5, 5, 7, 7, 9]\n",
    "print(contoh_list)\n",
    "print(len(contoh_list))\n",
    "\n",
    "contoh_set = set([1, 3, 3, 5, 5, 5, 7, 7, 9])\n",
    "print(contoh_set)\n",
    "print(len(contoh_set))\n",
    "\n",
    "contoh_string = \"Belajar Python\"\n",
    "print(contoh_string)\n",
    "print(len(contoh_string))"
   ]
  },
  {
   "cell_type": "code",
   "execution_count": 3,
   "id": "d6a4292f",
   "metadata": {},
   "outputs": [
    {
     "name": "stdout",
     "output_type": "stream",
     "text": [
      "5\n",
      "96\n"
     ]
    }
   ],
   "source": [
    "# min() dan max()\n",
    "angka = [13, 7, 24, 5, 96, 84, 71, 11, 38]\n",
    "print(min(angka))\n",
    "print(max(angka))"
   ]
  },
  {
   "cell_type": "code",
   "execution_count": 13,
   "id": "c68bee59",
   "metadata": {},
   "outputs": [
    {
     "name": "stdout",
     "output_type": "stream",
     "text": [
      "3\n",
      "6\n",
      "\n",
      "\n",
      "[1, 2, 4, 6, 8, 10]\n",
      "2\n",
      "1\n",
      "2\n",
      "3\n",
      "1\n",
      "2\n"
     ]
    }
   ],
   "source": [
    "#count Untuk mengetahui berapa kali suatu objek muncul dalam list, \n",
    "#Anda dapat menggunakan fungsi count().\n",
    "genap = [2, 4, 4, 6, 6, 6, 8, 10, 10]\n",
    "print(genap.count(6))\n",
    "string = \"Belajar Python di Dicoding sangat menyenangkan\"\n",
    "substring = \"a\"\n",
    "print(string.count(substring))\n",
    "print('\\n')\n",
    "\n",
    "\n",
    "#iseng bikin program count\n",
    "genap = [2, 4, 4, 6, 1, 1, 6, 6, 8, 10, 10]\n",
    "genap_saring = list(set(genap))\n",
    "print(genap_saring)\n",
    "for i in range(len(genap_saring)):\n",
    "    hasil = genap.count(genap_saring[i])\n",
    "    print(hasil)\n",
    "    "
   ]
  },
  {
   "cell_type": "code",
   "execution_count": 2,
   "id": "f7abb2ee",
   "metadata": {},
   "outputs": [
    {
     "name": "stdout",
     "output_type": "stream",
     "text": [
      "[2, 4, 6, 8, 'P', 'Y', 'T', 'H', 'O', 'N']\n",
      "['P', 'Y', 'T', 'H', 'O', 'N', 'P', 'Y', 'T', 'H', 'O', 'N']\n",
      "7\n",
      "[7, 7, 7, 7, 7, 7, 7]\n"
     ]
    }
   ],
   "source": [
    "#Penggabungan dan Replikasi\n",
    "\n",
    "angka = [2, 4, 6, 8]\n",
    "huruf = ['P', 'Y', 'T', 'H', 'O', 'N']\n",
    "gabung = angka + huruf\n",
    "print(gabung)\n",
    "\n",
    "learn = ['P', 'Y', 'T', 'H', 'O', 'N']\n",
    "replikasi = learn * 2\n",
    "print(replikasi)\n",
    "\n",
    "tujuh = [7]*7 #CONTOH REPLIKASI PADA LIST\n",
    "print(len(tujuh))\n",
    "print(tujuh)"
   ]
  },
  {
   "cell_type": "code",
   "execution_count": 1,
   "id": "c6f53b7b",
   "metadata": {},
   "outputs": [
    {
     "name": "stdout",
     "output_type": "stream",
     "text": [
      "0\n",
      "1\n",
      "2\n",
      "3\n",
      "4\n",
      "\n",
      "\n",
      "\n",
      "\n",
      "[0, 4, 8, 12, 16]\n"
     ]
    }
   ],
   "source": [
    "#RANGE\n",
    "#Fungsi range dapat memiliki 1-3 parameter:\n",
    "\n",
    "##Range dengan 1 parameter n: \n",
    "for i in range(5):\n",
    "    print(i)\n",
    "    \n",
    "print('\\n')\n",
    "\n",
    "##Range dengan 2 parameter n,p:\n",
    "for i in range(1, 5):\n",
    "    print(i)\n",
    "    \n",
    "print('\\n')\n",
    "\n",
    "##Range dengan 3 parameter n,p,q\n",
    "print([_ for _ in range(0,20,4)])\n"
   ]
  },
  {
   "cell_type": "code",
   "execution_count": 4,
   "id": "88839349",
   "metadata": {},
   "outputs": [
    {
     "name": "stdout",
     "output_type": "stream",
     "text": [
      "True\n",
      "False\n",
      "False\n",
      "True\n"
     ]
    }
   ],
   "source": [
    "#in dan not in\n",
    "kalimat = \"Belajar Python di Dicoding sangat menyenangkan\"\n",
    "print('Dicoding' in kalimat)\n",
    "print('tidak' in kalimat)\n",
    "print('Dicoding' not in kalimat)\n",
    "print('tidak' not in kalimat)\n"
   ]
  },
  {
   "cell_type": "code",
   "execution_count": 4,
   "id": "bfda5016",
   "metadata": {},
   "outputs": [
    {
     "name": "stdout",
     "output_type": "stream",
     "text": [
      "['shirt', 'white', 'L']\n",
      "shirt\n",
      "hijau\n"
     ]
    }
   ],
   "source": [
    "#Nilai untuk multiple variable\n",
    "sadata = ['shirt', 'white', 'L'] # From List\n",
    "apparel, color, size = sadata\n",
    "# data = ('shirt', 'white', 'L')  # From Tuple\n",
    "# apparel, color, size = data\n",
    "\n",
    "print(sadata)\n",
    "print(apparel)\n",
    "\n",
    "#ditukar \n",
    "warna, jenis = 'hijau', 'kaos'\n",
    "warna, jenis = jenis, warna\n",
    "print(jenis)"
   ]
  },
  {
   "cell_type": "code",
   "execution_count": 15,
   "id": "1cf95968",
   "metadata": {},
   "outputs": [
    {
     "name": "stdout",
     "output_type": "stream",
     "text": [
      "[4, 5, 5, 30, 100, 200, 500, 500, 1000, 1000]\n",
      "['helikopter', 'mobil', 'motor', 'pesawat']\n",
      "['Pesawat', 'helikopter', 'mobil', 'motor']\n",
      "['helikopter', 'Mobil', 'Motor', 'pesawat']\n"
     ]
    }
   ],
   "source": [
    "#sort\n",
    "\n",
    "angka = [100,4, 5, 1000, 30, 500, 1000, 500, 200, 5]\n",
    "angka.sort()\n",
    "print(angka)\n",
    "\n",
    "kendaraan = ['motor', 'mobil', 'helikopter', 'pesawat']\n",
    "kendaraan.sort()\n",
    "print(kendaraan)\n",
    "\n",
    "kendaraan = ['motor', 'mobil', 'helikopter', 'Pesawat'] #urutan sesuai Ascii\n",
    "kendaraan.sort()\n",
    "print(kendaraan)\n",
    "\n",
    "# Untuk mengatasi kendala ini, Anda dapat memasukkan keyword str.lower pada parameter. \n",
    "# Hal ini akan membuat metode sort menganggap semua objek menggunakan huruf kecil, \n",
    "# tanpa mengubah kondisi asli dari objek tersebut.\n",
    "kendaraan = ['Motor', 'Mobil', 'helikopter', 'pesawat']\n",
    "kendaraan.sort(key=str.lower)\n",
    "print(kendaraan)\n"
   ]
  },
  {
   "cell_type": "code",
   "execution_count": null,
   "id": "027b43c5",
   "metadata": {},
   "outputs": [],
   "source": []
  }
 ],
 "metadata": {
  "kernelspec": {
   "display_name": "Python 3",
   "language": "python",
   "name": "python3"
  },
  "language_info": {
   "codemirror_mode": {
    "name": "ipython",
    "version": 3
   },
   "file_extension": ".py",
   "mimetype": "text/x-python",
   "name": "python",
   "nbconvert_exporter": "python",
   "pygments_lexer": "ipython3",
   "version": "3.8.5"
  }
 },
 "nbformat": 4,
 "nbformat_minor": 5
}
