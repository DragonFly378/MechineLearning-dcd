{
 "cells": [
  {
   "cell_type": "code",
   "execution_count": 5,
   "id": "62148e97",
   "metadata": {},
   "outputs": [
    {
     "name": "stdout",
     "output_type": "stream",
     "text": [
      "Huruf saat ini: D\n",
      "Huruf saat ini: i\n",
      "Huruf saat ini: c\n",
      "Huruf saat ini: o\n"
     ]
    }
   ],
   "source": [
    "for huruf in 'Dico ding':\n",
    "    if huruf == ' ':\n",
    "        break\n",
    "    print('Huruf saat ini: {}'.format(huruf))"
   ]
  },
  {
   "cell_type": "code",
   "execution_count": 8,
   "id": "05579f9d",
   "metadata": {},
   "outputs": [
    {
     "name": "stdout",
     "output_type": "stream",
     "text": [
      "*\n",
      "**\n",
      "***\n",
      "****\n",
      "*****\n",
      "******\n",
      "*******\n",
      "********\n",
      "*********\n",
      "**********"
     ]
    }
   ],
   "source": [
    "for i in range (0,10):\n",
    "    for j in range (0,10):\n",
    "        if j>i:\n",
    "            print()\n",
    "            break\n",
    "        else:\n",
    "            print(\"*\",end=\"\")\n"
   ]
  },
  {
   "cell_type": "code",
   "execution_count": 11,
   "id": "a8cf04ae",
   "metadata": {},
   "outputs": [
    {
     "name": "stdout",
     "output_type": "stream",
     "text": [
      "Huruf saat ini: D\n",
      "Huruf saat ini: i\n",
      "Huruf saat ini: c\n",
      "Huruf saat ini: o\n",
      "Huruf saat ini: d\n",
      "Huruf saat ini: i\n",
      "Huruf saat ini: n\n",
      "Huruf saat ini: g\n"
     ]
    }
   ],
   "source": [
    "for huruf in 'Dico ding':\n",
    "    if huruf == ' ':\n",
    "        continue\n",
    "    print('Huruf saat ini: {}'.format(huruf))"
   ]
  },
  {
   "cell_type": "code",
   "execution_count": 17,
   "id": "33a2291f",
   "metadata": {},
   "outputs": [
    {
     "name": "stdout",
     "output_type": "stream",
     "text": [
      "*\n",
      "**\n",
      "***\n",
      "****\n",
      "*****\n",
      "******\n",
      "*******\n",
      "********\n",
      "*********\n",
      "**********\n"
     ]
    }
   ],
   "source": [
    "jumlahbaris = 10\n",
    "baris = 0\n",
    "bintang = 0\n",
    "while baris < jumlahbaris:\n",
    "    if (bintang) >= (baris+1):\n",
    "        print()\n",
    "        baris += 1\n",
    "        bintang=0\n",
    "        continue      ##saat masuk ke if, maka bagian print * diluar if tidak akan dijalankan, langsung ulang ke while\n",
    "    print(\"*\",end=\"\")\n",
    "    bintang= bintang+1"
   ]
  },
  {
   "cell_type": "code",
   "execution_count": 18,
   "id": "2b6f35f3",
   "metadata": {},
   "outputs": [
    {
     "ename": "NameError",
     "evalue": "name 'items' is not defined",
     "output_type": "error",
     "traceback": [
      "\u001b[0;31m---------------------------------------------------------------------------\u001b[0m",
      "\u001b[0;31mNameError\u001b[0m                                 Traceback (most recent call last)",
      "\u001b[0;32m<ipython-input-18-954f3cd8cbe8>\u001b[0m in \u001b[0;36m<module>\u001b[0;34m\u001b[0m\n\u001b[0;32m----> 1\u001b[0;31m \u001b[0;32mfor\u001b[0m \u001b[0mitem\u001b[0m \u001b[0;32min\u001b[0m \u001b[0mitems\u001b[0m\u001b[0;34m:\u001b[0m\u001b[0;34m\u001b[0m\u001b[0;34m\u001b[0m\u001b[0m\n\u001b[0m\u001b[1;32m      2\u001b[0m     \u001b[0;32mif\u001b[0m \u001b[0mcari\u001b[0m\u001b[0;34m(\u001b[0m\u001b[0mitem\u001b[0m\u001b[0;34m)\u001b[0m\u001b[0;34m:\u001b[0m\u001b[0;34m\u001b[0m\u001b[0;34m\u001b[0m\u001b[0m\n\u001b[1;32m      3\u001b[0m         \u001b[0;31m#ditemukan!\u001b[0m\u001b[0;34m\u001b[0m\u001b[0;34m\u001b[0m\u001b[0;34m\u001b[0m\u001b[0m\n\u001b[1;32m      4\u001b[0m         \u001b[0mproses_item\u001b[0m\u001b[0;34m(\u001b[0m\u001b[0;34m)\u001b[0m\u001b[0;34m\u001b[0m\u001b[0;34m\u001b[0m\u001b[0m\n\u001b[1;32m      5\u001b[0m         \u001b[0;32mbreak\u001b[0m\u001b[0;34m\u001b[0m\u001b[0;34m\u001b[0m\u001b[0m\n",
      "\u001b[0;31mNameError\u001b[0m: name 'items' is not defined"
     ]
    }
   ],
   "source": [
    "for item in items:\n",
    "    if cari(item):\n",
    "        #ditemukan!\n",
    "        proses_item()\n",
    "        break\n",
    "else:\n",
    "    #Item tidak ditemukan\n",
    "    not_found_in_container()"
   ]
  },
  {
   "cell_type": "code",
   "execution_count": 45,
   "id": "194d5297",
   "metadata": {},
   "outputs": [
    {
     "name": "stdout",
     "output_type": "stream",
     "text": [
      "2  adalah bilangan prima\n",
      "3  adalah bilangan prima\n",
      "4 equals 2 * 2.0\n",
      "5  adalah bilangan prima\n",
      "6 equals 2 * 3.0\n",
      "7  adalah bilangan prima\n",
      "8 equals 2 * 4.0\n",
      "9 equals 3 * 3.0\n"
     ]
    }
   ],
   "source": [
    "for n in range(2, 10):\n",
    "    for x in range(2, n):\n",
    "        if n % x == 0:\n",
    "            print( n, 'equals', x, '*', n/x)\n",
    "            break\n",
    "    else:\n",
    "        # loop fell through without finding a factor\n",
    "        print(n, ' adalah bilangan prima')"
   ]
  },
  {
   "cell_type": "code",
   "execution_count": 49,
   "id": "d81603d3",
   "metadata": {},
   "outputs": [
    {
     "name": "stdout",
     "output_type": "stream",
     "text": [
      "9\n",
      "8\n",
      "7\n",
      "6\n",
      "5\n",
      "4\n",
      "3\n",
      "2\n",
      "1\n",
      "0\n",
      "Loop selesai\n"
     ]
    }
   ],
   "source": [
    "n = 10\n",
    "while n > 0:\n",
    "    n = n - 1\n",
    "    print(n)\n",
    "else:\n",
    "    print(\"Loop selesai\")"
   ]
  },
  {
   "cell_type": "code",
   "execution_count": 52,
   "id": "573d0667",
   "metadata": {},
   "outputs": [],
   "source": [
    "# PASS\n",
    "def sebuahfungsi():\n",
    "    pass"
   ]
  },
  {
   "cell_type": "code",
   "execution_count": 1,
   "id": "69e774cd",
   "metadata": {},
   "outputs": [
    {
     "name": "stdout",
     "output_type": "stream",
     "text": [
      "Please enter an integer (type exit to exit): 8\n",
      "8\n",
      "Please enter an integer (type exit to exit): u\n"
     ]
    },
    {
     "ename": "ValueError",
     "evalue": "invalid literal for int() with base 10: 'u'",
     "output_type": "error",
     "traceback": [
      "\u001b[0;31m---------------------------------------------------------------------------\u001b[0m",
      "\u001b[0;31mValueError\u001b[0m                                Traceback (most recent call last)",
      "\u001b[0;32m<ipython-input-1-45dd54642b3d>\u001b[0m in \u001b[0;36m<module>\u001b[0;34m\u001b[0m\n\u001b[1;32m      2\u001b[0m \u001b[0;32mwhile\u001b[0m\u001b[0;34m(\u001b[0m\u001b[0mvar1\u001b[0m\u001b[0;34m!=\u001b[0m\u001b[0;34m\"exit\"\u001b[0m\u001b[0;34m)\u001b[0m\u001b[0;34m:\u001b[0m\u001b[0;34m\u001b[0m\u001b[0;34m\u001b[0m\u001b[0m\n\u001b[1;32m      3\u001b[0m     \u001b[0mvar1\u001b[0m\u001b[0;34m=\u001b[0m\u001b[0minput\u001b[0m\u001b[0;34m(\u001b[0m\u001b[0;34m\"Please enter an integer (type exit to exit): \"\u001b[0m\u001b[0;34m)\u001b[0m\u001b[0;34m\u001b[0m\u001b[0;34m\u001b[0m\u001b[0m\n\u001b[0;32m----> 4\u001b[0;31m     \u001b[0mprint\u001b[0m\u001b[0;34m(\u001b[0m\u001b[0mint\u001b[0m\u001b[0;34m(\u001b[0m\u001b[0mvar1\u001b[0m\u001b[0;34m)\u001b[0m\u001b[0;34m)\u001b[0m\u001b[0;34m\u001b[0m\u001b[0;34m\u001b[0m\u001b[0m\n\u001b[0m",
      "\u001b[0;31mValueError\u001b[0m: invalid literal for int() with base 10: 'u'"
     ]
    }
   ],
   "source": [
    "var1=\"\"\n",
    "while(var1!=\"exit\"):\n",
    "    var1=input(\"Please enter an integer (type exit to exit): \")\n",
    "    print(int(var1))"
   ]
  },
  {
   "cell_type": "code",
   "execution_count": 2,
   "id": "9db0e1ef",
   "metadata": {},
   "outputs": [
    {
     "name": "stdout",
     "output_type": "stream",
     "text": [
      "Please enter an integer (type exit to exit): exit\n"
     ]
    }
   ],
   "source": [
    "# ERROR HANDLING\n",
    "import sys\n",
    "data=''\n",
    "while(data!='exit'):\n",
    "    try:\n",
    "        data=input('Please enter an integer (type exit to exit): ')\n",
    "        print('got integer: {}'.format(int(data)))\n",
    "    except:\n",
    "        if data == 'exit':\n",
    "            pass  # exit gracefully without prompt any error\n",
    "        else:\n",
    "            print('error: {}'.format(sys.exc_info()[0]))"
   ]
  },
  {
   "cell_type": "code",
   "execution_count": null,
   "id": "262e5dba",
   "metadata": {},
   "outputs": [],
   "source": []
  },
  {
   "cell_type": "code",
   "execution_count": 9,
   "id": "ea4a9ce2",
   "metadata": {},
   "outputs": [
    {
     "name": "stdout",
     "output_type": "stream",
     "text": [
      "[1, 4, 9, 16]\n",
      "[1, 4, 9, 16]\n",
      "['d', 'i']\n",
      "['d', 'i']\n"
     ]
    }
   ],
   "source": [
    "#List Comprehension (membuat list dengan inline loop dan if)\n",
    "\n",
    "## Cara 1\n",
    "angka = [1, 2, 3, 4]\n",
    "pangkat = []\n",
    "for n in angka:\n",
    "  pangkat.append(n**2)\n",
    "print(pangkat)\n",
    "\n",
    "## Cara 2 List Comprehension\n",
    "angka = [1, 2, 3, 4]\n",
    "pangkat = [n**2 for n in angka]\n",
    "print(pangkat)\n",
    "\n",
    "## Contoh3 menemukan item yang ada di kedua list\n",
    "list1 = ['d', 'i', 'c', 'o']\n",
    "list2 = ['d', 'i', 'n', 'g']\n",
    "duplikat = []\n",
    "for a in list1:\n",
    "  for b in list2:\n",
    "    if a == b:\n",
    "      duplikat.append(a)\n",
    "\n",
    "print(duplikat)  # Output ['d','i']\n",
    "\n",
    "#Contoh4 Implementasi dengan list comprehension\n",
    "list1 = ['d', 'i', 'c', 'o']\n",
    "list2 = ['d', 'i', 'n', 'g']\n",
    "duplikat = [a for a in list1 for b in list2 if a == b]\n",
    "print(duplikat) # Output: ['d','i']"
   ]
  },
  {
   "cell_type": "code",
   "execution_count": 12,
   "id": "3cb09204",
   "metadata": {},
   "outputs": [
    {
     "name": "stdout",
     "output_type": "stream",
     "text": [
      "['hello', 'world', 'in', 'python']\n"
     ]
    }
   ],
   "source": [
    "# Contoh 5 kecilkan semua huruf\n",
    "list_a = [\"Hello\", \"World\", \"In\", \"Python\"]\n",
    "small_list_a = [B.lower() for B in list_a]\n",
    "print(small_list_a)"
   ]
  },
  {
   "cell_type": "code",
   "execution_count": 27,
   "id": "5acf544f",
   "metadata": {},
   "outputs": [
    {
     "name": "stdout",
     "output_type": "stream",
     "text": [
      "[1, 3, 5, 7, 9]\n"
     ]
    }
   ],
   "source": [
    "list_a = range(1, 10, 2)\n",
    "x = [ i for i in list_a]\n",
    "print(x)\n",
    "\n",
    "# contoh latihan\n",
    "list_a = range(1, 10, 2)\n",
    "x = [[a**2, a**3] for a in list_a]\n",
    "print(x)"
   ]
  },
  {
   "cell_type": "code",
   "execution_count": null,
   "id": "ec621035",
   "metadata": {},
   "outputs": [],
   "source": []
  }
 ],
 "metadata": {
  "kernelspec": {
   "display_name": "Python 3",
   "language": "python",
   "name": "python3"
  },
  "language_info": {
   "codemirror_mode": {
    "name": "ipython",
    "version": 3
   },
   "file_extension": ".py",
   "mimetype": "text/x-python",
   "name": "python",
   "nbconvert_exporter": "python",
   "pygments_lexer": "ipython3",
   "version": "3.8.5"
  }
 },
 "nbformat": 4,
 "nbformat_minor": 5
}
