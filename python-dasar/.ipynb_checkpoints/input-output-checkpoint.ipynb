{
 "cells": [
  {
   "cell_type": "code",
   "execution_count": 1,
   "id": "dfc686a3",
   "metadata": {},
   "outputs": [
    {
     "name": "stdout",
     "output_type": "stream",
     "text": [
      "Nilai x adalah 100\n"
     ]
    }
   ],
   "source": [
    "    x = 100\n",
    "    print('Nilai x adalah', x)"
   ]
  },
  {
   "cell_type": "code",
   "execution_count": 2,
   "id": "75766d59",
   "metadata": {},
   "outputs": [
    {
     "name": "stdout",
     "output_type": "stream",
     "text": [
      "hai bro\n",
      "Halo, Dicoding!\n"
     ]
    }
   ],
   "source": [
    "#Untuk menampilkan text (string), bisa menggunakan mekanisme string format. Misalnya yang\n",
    "\n",
    "print('hai {}'.format('bro')) #cara 1\n",
    "\n",
    "nama = \"Dicoding\" \n",
    "print(\"Halo, %s!\" % nama) #cara 2 dengan menggunakan \"argument specifiers\"\n",
    "\n"
   ]
  },
  {
   "cell_type": "code",
   "execution_count": 3,
   "id": "cc385c54",
   "metadata": {},
   "outputs": [
    {
     "data": {
      "text/plain": [
       "'Beberapa argument specifier yang umum digunakan:\\n\\n    %s - String\\n    %d - Integers\\n    %f - Bilangan Desimal\\n    %.<digit>f - Bilangan desimal dengan sejumlah digit angka dibelakang koma.\\n    %x/%X - Bilangan bulat dalam representasi Hexa (huruf kecil/huruf besar)\\n'"
      ]
     },
     "execution_count": 3,
     "metadata": {},
     "output_type": "execute_result"
    }
   ],
   "source": [
    "'''Beberapa argument specifier yang umum digunakan:\n",
    "\n",
    "    %s - String\n",
    "    %d - Integers\n",
    "    %f - Bilangan Desimal\n",
    "    %.<digit>f - Bilangan desimal dengan sejumlah digit angka dibelakang koma.\n",
    "    %x/%X - Bilangan bulat dalam representasi Hexa (huruf kecil/huruf besar)\n",
    "'''"
   ]
  },
  {
   "cell_type": "code",
   "execution_count": 5,
   "id": "7bbf3bef",
   "metadata": {},
   "outputs": [
    {
     "name": "stdout",
     "output_type": "stream",
     "text": [
      "a: a and b: B\n"
     ]
    }
   ],
   "source": [
    "    a, b = 10, 11\n",
    "    a, b\n",
    "    print('a: %x and b: %X' % (a, b))"
   ]
  },
  {
   "cell_type": "code",
   "execution_count": 3,
   "id": "541f381e",
   "metadata": {},
   "outputs": [
    {
     "name": "stdout",
     "output_type": "stream",
     "text": [
      "Halo, saya hafiz!... umur saya 26 \n"
     ]
    }
   ],
   "source": [
    "nama = \"hafiz\" \n",
    "umur = 26\n",
    "print(\"Halo, saya %s!... umur saya %d \" % (nama,umur))"
   ]
  },
  {
   "cell_type": "code",
   "execution_count": 9,
   "id": "d9952b55",
   "metadata": {},
   "outputs": [
    {
     "ename": "SyntaxError",
     "evalue": "invalid syntax (<ipython-input-9-60cb2c87b478>, line 3)",
     "output_type": "error",
     "traceback": [
      "\u001b[0;36m  File \u001b[0;32m\"<ipython-input-9-60cb2c87b478>\"\u001b[0;36m, line \u001b[0;32m3\u001b[0m\n\u001b[0;31m    nilai = int input('Masukkan angka : ')\u001b[0m\n\u001b[0m                ^\u001b[0m\n\u001b[0;31mSyntaxError\u001b[0m\u001b[0;31m:\u001b[0m invalid syntax\n"
     ]
    }
   ],
   "source": [
    "#input\n",
    "\n",
    "nilai = input('Masukkan angka : ')\n",
    "print(type(int(nilai)))"
   ]
  },
  {
   "cell_type": "code",
   "execution_count": null,
   "id": "e7528a41",
   "metadata": {},
   "outputs": [],
   "source": []
  },
  {
   "cell_type": "code",
   "execution_count": null,
   "id": "8b0d12a0",
   "metadata": {},
   "outputs": [],
   "source": []
  }
 ],
 "metadata": {
  "kernelspec": {
   "display_name": "Python 3",
   "language": "python",
   "name": "python3"
  },
  "language_info": {
   "codemirror_mode": {
    "name": "ipython",
    "version": 3
   },
   "file_extension": ".py",
   "mimetype": "text/x-python",
   "name": "python",
   "nbconvert_exporter": "python",
   "pygments_lexer": "ipython3",
   "version": "3.8.5"
  }
 },
 "nbformat": 4,
 "nbformat_minor": 5
}
