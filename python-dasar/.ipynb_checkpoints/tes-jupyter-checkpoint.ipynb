{
 "cells": [
  {
   "cell_type": "code",
   "execution_count": 6,
   "metadata": {},
   "outputs": [
    {
     "name": "stdout",
     "output_type": "stream",
     "text": [
      "Hello World! \n",
      "\n"
     ]
    }
   ],
   "source": [
    "#SOAL 1\n",
    "print('Hello World! \\n')  "
   ]
  },
  {
   "cell_type": "code",
   "execution_count": 1,
   "metadata": {},
   "outputs": [
    {
     "name": "stdout",
     "output_type": "stream",
     "text": [
      "jika ditambah hasilnya : 24\n",
      "jika dikurang hasilnya : 16\n",
      "jika dikali hasilnya : 80\n",
      "jika dibagi hasilnya : 5.0\n"
     ]
    }
   ],
   "source": [
    "#SOAL 2\n",
    "a = 20\n",
    "b = 4\n",
    "\n",
    "jumlah = a + b\n",
    "kurang = a - b\n",
    "kali = a * b\n",
    "bagi = a / b\n",
    "print( 'jika ditambah hasilnya : ' + str(jumlah) )\n",
    "print( 'jika dikurang hasilnya : ' + str(kurang) )\n",
    "print( 'jika dikali hasilnya : ' + str(kali) )\n",
    "print( 'jika dibagi hasilnya : ' + str(bagi) )"
   ]
  },
  {
   "cell_type": "code",
   "execution_count": 5,
   "metadata": {},
   "outputs": [
    {
     "name": "stdout",
     "output_type": "stream",
     "text": [
      "3.8333333333333335\n",
      "3\n"
     ]
    }
   ],
   "source": [
    "#fibonacci\n",
    "\n",
    "nterms = int(input(\"How many terms? \"))\n",
    "\n",
    "#first two terms\n",
    "n1, n2 = 0, 1\n",
    "count = 0\n",
    "\n",
    "#check if the number of terms is valid\n",
    "if nterms <= 0:\n",
    "    print(\"masukin bilangan positip bro!\")\n",
    "elif nterms == 1:\n",
    "    print(\"Fibonacci sequence upto\", nterms,\":\")\n",
    "    print(n1)\n",
    "else:\n",
    "    print(\"Bilangan Fibonaccinya adalah: \")\n",
    "    while count < nterms:\n",
    "        print(n1)\n",
    "        nth = n1 + n2\n",
    "        #ulangi\n",
    "        n1 = n2\n",
    "        n2 = nth\n",
    "        count += 1"
   ]
  },
  {
   "cell_type": "code",
   "execution_count": 7,
   "metadata": {},
   "outputs": [
    {
     "name": "stdout",
     "output_type": "stream",
     "text": [
      "Hello sanbercode, saya Hafiz Hisbullah! saya siap belajar python data science.\n"
     ]
    }
   ],
   "source": [
    "#soal 4\n",
    "firstname = 'Hafiz'\n",
    "lastname = 'Hisbullah' \n",
    "print('Hello sanbercode, saya ' + firstname + ' ' + lastname + '! saya siap belajar python data science.')\n"
   ]
  },
  {
   "cell_type": "code",
   "execution_count": 8,
   "metadata": {},
   "outputs": [
    {
     "name": "stdout",
     "output_type": "stream",
     "text": [
      "the number: 9.99999\n"
     ]
    }
   ],
   "source": [
    "#soal 5\n",
    "p = 9.99999\n",
    "q = 'the number: '\n",
    "print(q + str(float(p)))"
   ]
  }
 ],
 "metadata": {
  "kernelspec": {
   "display_name": "Python 3",
   "language": "python",
   "name": "python3"
  },
  "language_info": {
   "codemirror_mode": {
    "name": "ipython",
    "version": 3
   },
   "file_extension": ".py",
   "mimetype": "text/x-python",
   "name": "python",
   "nbconvert_exporter": "python",
   "pygments_lexer": "ipython3",
   "version": "3.7.3"
  }
 },
 "nbformat": 4,
 "nbformat_minor": 5
}
