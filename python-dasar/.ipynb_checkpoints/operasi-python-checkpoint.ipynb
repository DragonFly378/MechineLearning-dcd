{
 "cells": [
  {
   "cell_type": "code",
   "execution_count": 27,
   "id": "329ea3a4",
   "metadata": {},
   "outputs": [
    {
     "ename": "TypeError",
     "evalue": "'list' object is not callable",
     "output_type": "error",
     "traceback": [
      "\u001b[0;31m---------------------------------------------------------------------------\u001b[0m",
      "\u001b[0;31mTypeError\u001b[0m                                 Traceback (most recent call last)",
      "\u001b[0;32m<ipython-input-27-8be5ab24e05d>\u001b[0m in \u001b[0;36m<module>\u001b[0;34m\u001b[0m\n\u001b[1;32m      2\u001b[0m \u001b[0mkata\u001b[0m \u001b[0;34m=\u001b[0m \u001b[0;34m'dicoding'\u001b[0m\u001b[0;34m\u001b[0m\u001b[0;34m\u001b[0m\u001b[0m\n\u001b[1;32m      3\u001b[0m \u001b[0mkata\u001b[0m \u001b[0;34m=\u001b[0m \u001b[0mkata\u001b[0m\u001b[0;34m.\u001b[0m\u001b[0mupper\u001b[0m\u001b[0;34m(\u001b[0m\u001b[0;34m)\u001b[0m\u001b[0;34m\u001b[0m\u001b[0;34m\u001b[0m\u001b[0m\n\u001b[0;32m----> 4\u001b[0;31m \u001b[0mprint\u001b[0m\u001b[0;34m(\u001b[0m\u001b[0mkata\u001b[0m\u001b[0;34m)\u001b[0m\u001b[0;34m\u001b[0m\u001b[0;34m\u001b[0m\u001b[0m\n\u001b[0m",
      "\u001b[0;31mTypeError\u001b[0m: 'list' object is not callable"
     ]
    }
   ],
   "source": [
    "#upper\n",
    "kata = 'dicoding'\n",
    "kata = kata.upper()\n",
    "print(kata)"
   ]
  },
  {
   "cell_type": "code",
   "execution_count": 4,
   "id": "64f36168",
   "metadata": {},
   "outputs": [
    {
     "name": "stdout",
     "output_type": "stream",
     "text": [
      "dicoding\n"
     ]
    }
   ],
   "source": [
    "#lower\n",
    "kata = 'DICODING'\n",
    "kata = kata.lower()\n",
    "print(kata)"
   ]
  },
  {
   "cell_type": "code",
   "execution_count": 5,
   "id": "d74928d0",
   "metadata": {},
   "outputs": [
    {
     "name": "stdout",
     "output_type": "stream",
     "text": [
      "Dicoding\n"
     ]
    }
   ],
   "source": [
    "#rstrip()\n",
    "#menghapus whitespace bagian kanan\n",
    "\n",
    "print('Dicoding    '.rstrip())"
   ]
  },
  {
   "cell_type": "code",
   "execution_count": 9,
   "id": "268ea1ec",
   "metadata": {},
   "outputs": [
    {
     "name": "stdout",
     "output_type": "stream",
     "text": [
      "Dicoding\n"
     ]
    }
   ],
   "source": [
    "#lstrip()\n",
    "#menghapus whitespace bagian kiri\n",
    "\n",
    "print('    Dicoding'.lstrip())"
   ]
  },
  {
   "cell_type": "code",
   "execution_count": 17,
   "id": "428f7c82",
   "metadata": {},
   "outputs": [
    {
     "name": "stdout",
     "output_type": "stream",
     "text": [
      "Dicoding\n",
      "sCodeDicoding\n"
     ]
    }
   ],
   "source": [
    "#strip()\n",
    "#menghapus whitespace kedua sisi\n",
    "print('    Dicoding    '.strip())\n",
    "\n",
    "#atau untuk menghapus sebuah kata yang dipilih\n",
    "kata = 'CodeCodeDicodingCodeCode'\n",
    "print(kata.strip('Code'))"
   ]
  },
  {
   "cell_type": "code",
   "execution_count": 20,
   "id": "ce00a18d",
   "metadata": {},
   "outputs": [
    {
     "name": "stdout",
     "output_type": "stream",
     "text": [
      "True\n",
      "False\n"
     ]
    }
   ],
   "source": [
    "#startswith()\n",
    "'''startswith() akan mengembalikan nilai True jika string diawali \n",
    "dengan kata awalan tertentu yang kita inginkan, jika tidak maka akan mengembalikan nilai False.'''\n",
    "\n",
    "print('Dicoding Indonesia'.startswith('Dicoding'))\n",
    "\n",
    "\n",
    "\n",
    "\n",
    "#endswith()\n",
    "'''metode ini akan mengembalikan nilai True jika string diakhiri \n",
    "dengan kata akhiran tertentu yang kita inginkan, jika tidak maka akan mengembalikan nilai False.'''\n",
    "\n",
    "print('Dicoding Capung'.endswith('Indonesia'))"
   ]
  },
  {
   "cell_type": "code",
   "execution_count": 25,
   "id": "e8a3ee80",
   "metadata": {},
   "outputs": [
    {
     "name": "stdout",
     "output_type": "stream",
     "text": [
      "Dicoding Indonesia !\n",
      "Dicodingcapung Indonesiacapung !\n",
      "['Dicoding', 'Indonesia', '!']\n",
      "['Dicoding', 'Indonesia', '!']\n",
      "['Halo,', 'aku ikan,', 'aku suka sekali menyelam', 'aku tinggal di perairan.', 'Badanku licin dan renangku cepat.', 'Senang berkenalan denganmu.']\n"
     ]
    }
   ],
   "source": [
    "#Memisah dan Menggabung String\n",
    "\n",
    "\n",
    "##join()\n",
    "'''Metode join() adalah metode yang dipakai untuk menggabungkan sejumlah string.'''\n",
    "print(' '.join(['Dicoding', 'Indonesia', '!']))\n",
    "print('capung '.join(['Dicoding', 'Indonesia', '!']))\n",
    "\n",
    "##split()\n",
    "'''metode split() adalah metode yang memisahkan substring berdasarkan \n",
    "delimiter tertentu (defaultnya adalah whitespace, tab, atau newline).'''\n",
    "print('Dicoding Indonesia !'.split())\n",
    "print('Dicoding123Indonesia123!'.split('123'))\n",
    "print('''Halo,\n",
    "aku ikan,\n",
    "aku suka sekali menyelam\n",
    "aku tinggal di perairan.\n",
    "Badanku licin dan renangku cepat.\n",
    "Senang berkenalan denganmu.'''.split('\\n'))\n",
    "\n"
   ]
  },
  {
   "cell_type": "code",
   "execution_count": 1,
   "id": "ad0976d6",
   "metadata": {},
   "outputs": [
    {
     "name": "stdout",
     "output_type": "stream",
     "text": [
      "Ayo belajar Pemrograman di Dicoding\n",
      "Ayo belajar Pemrograman di Dicoding karena Coding adalah bahasa masa depan\n"
     ]
    }
   ],
   "source": [
    "#Mengganti Elemen String\n",
    "\n",
    "\n",
    "##replace()\n",
    "'''Metode replace() dapat mengembalikan string baru dalam kondisi substring\n",
    "telah tergantikan dengan parameter yang dimasukkan. Berikut contoh kodenya.'''\n",
    "\n",
    "string = \"Ayo belajar Coding di Dicoding\"\n",
    "print(string.replace(\"Coding\", \"Pemrograman\"))\n",
    "\n",
    "string = \"Ayo belajar Coding di Dicoding karena Coding adalah bahasa masa depan\" #opsi lain\n",
    "print(string.replace(\"Coding\", \"Pemrograman\", 1)) #coding yang kedua ga berubah"
   ]
  },
  {
   "cell_type": "code",
   "execution_count": 49,
   "id": "ec66cce6",
   "metadata": {},
   "outputs": [
    {
     "name": "stdout",
     "output_type": "stream",
     "text": [
      "dicoding\n",
      "DICODING\n",
      "True\n",
      "False\n"
     ]
    },
    {
     "data": {
      "text/plain": [
       "False"
      ]
     },
     "execution_count": 49,
     "metadata": {},
     "output_type": "execute_result"
    }
   ],
   "source": [
    "#Pengecekan String\n",
    "\n",
    "##isupper()\n",
    "kata = 'DICODING'\n",
    "kata.isupper()\n",
    "\n",
    "##islower()\n",
    "capung = 'dicoding'\n",
    "capung.islower()\n",
    "\n",
    "print('Dicoding'.upper().lower())\n",
    "print('Dicoding'.lower().upper())\n",
    "print('DICODING'.upper().lower().islower())\n",
    "print('DICODING'.upper().lower().isupper())\n",
    "\n",
    "##isalpha()\n",
    "'dicoding'.isalpha() #cek apakah hanya huruf alfabet saja, atau tidak\n",
    "\n",
    "##isalnum() \n",
    "'dicoding123'.isalnum() #cek apakah ada angka saja, atau huruf saja, atau ada keduanya\n",
    "\n",
    "##isdecimal()\n",
    "'123d45'.isdecimal() #cek apakah angka saja , atau tidak\n",
    "\n",
    "##isspace()\n",
    "'     '.isspace() #cek apakah berisi hanya karakter whitespace, seperti spasi, tab, newline, atau karakter whitespaces lainnya\n",
    "\n",
    "##istitle()\n",
    "'Dicoding Indonesia'.istitle() #cek apakah berisi huruf kapital di setiap kata dan dilanjutkan dengan huruf kecil seterusnya\n",
    "    "
   ]
  },
  {
   "cell_type": "code",
   "execution_count": 3,
   "id": "4890a24b",
   "metadata": {},
   "outputs": [
    {
     "name": "stdout",
     "output_type": "stream",
     "text": [
      "Masukkan nama Anda:\n",
      "k\n",
      "Halo k\n"
     ]
    }
   ],
   "source": [
    "## contoh validasi\n",
    "\n",
    "while True:\n",
    "    print('Masukkan nama Anda:')\n",
    "    name = input()\n",
    "    if name.isalpha():\n",
    "        print(\"Halo\", name)\n",
    "        break\n",
    "    print('Masukkan nama Anda dengan benar.')"
   ]
  },
  {
   "cell_type": "code",
   "execution_count": 7,
   "id": "fb53e460",
   "metadata": {},
   "outputs": [
    {
     "name": "stdout",
     "output_type": "stream",
     "text": [
      "Halo!\n",
      "Kapan terakhir kali kita bertemu?\n",
      "Kita bertemu hari Jum'at yang lalu.\n"
     ]
    }
   ],
   "source": [
    "print(\"Halo!\\nKapan terakhir kali kita bertemu?\\nKita bertemu hari Jum\\'at yang lalu.\")"
   ]
  },
  {
   "cell_type": "code",
   "execution_count": null,
   "id": "1ae16e8e",
   "metadata": {},
   "outputs": [],
   "source": []
  },
  {
   "cell_type": "code",
   "execution_count": null,
   "id": "f71a546a",
   "metadata": {},
   "outputs": [],
   "source": []
  }
 ],
 "metadata": {
  "kernelspec": {
   "display_name": "Python 3",
   "language": "python",
   "name": "python3"
  },
  "language_info": {
   "codemirror_mode": {
    "name": "ipython",
    "version": 3
   },
   "file_extension": ".py",
   "mimetype": "text/x-python",
   "name": "python",
   "nbconvert_exporter": "python",
   "pygments_lexer": "ipython3",
   "version": "3.8.5"
  }
 },
 "nbformat": 4,
 "nbformat_minor": 5
}
